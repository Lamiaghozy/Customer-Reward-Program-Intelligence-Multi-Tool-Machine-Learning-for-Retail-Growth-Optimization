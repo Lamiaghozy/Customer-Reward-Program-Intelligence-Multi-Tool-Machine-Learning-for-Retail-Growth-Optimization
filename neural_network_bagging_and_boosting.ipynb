{
  "nbformat": 4,
  "nbformat_minor": 0,
  "metadata": {
    "colab": {
      "private_outputs": true,
      "provenance": []
    },
    "kernelspec": {
      "name": "python3",
      "display_name": "Python 3"
    },
    "language_info": {
      "name": "python"
    }
  },
  "cells": [
    {
      "cell_type": "code",
      "execution_count": null,
      "metadata": {
        "id": "bVWzGSHLTJwe"
      },
      "outputs": [],
      "source": [
        "from google.colab import files\n",
        "uploaded = files.upload()"
      ]
    },
    {
      "cell_type": "code",
      "source": [
        "import pandas as pd\n",
        "\n",
        "# replace filename.xlsx with the name of your uploaded file\n",
        "df = pd.read_excel(\"neural network.xlsx\")\n",
        "\n",
        "# check first few rows\n",
        "df.head()"
      ],
      "metadata": {
        "id": "TcOAhVLzT9ko"
      },
      "execution_count": null,
      "outputs": []
    },
    {
      "cell_type": "code",
      "source": [
        "X = df[['Salerank', 'X2013USSales', 'X2013WorldSales', 'NumStores', 'ProfitMargin']]\n",
        "y = df['RewardSize']\n"
      ],
      "metadata": {
        "id": "1WUGR3i8UJDs"
      },
      "execution_count": null,
      "outputs": []
    },
    {
      "cell_type": "code",
      "source": [
        "from sklearn.model_selection import train_test_split\n",
        "\n",
        "X_train, X_val, y_train, y_val = train_test_split(\n",
        "    X, y, test_size=0.4, random_state=12345\n",
        ")\n"
      ],
      "metadata": {
        "id": "zmt2FfrUUPzJ"
      },
      "execution_count": null,
      "outputs": []
    },
    {
      "cell_type": "code",
      "source": [
        "from sklearn.preprocessing import StandardScaler\n",
        "\n",
        "scaler = StandardScaler()\n",
        "X_train_scaled = scaler.fit_transform(X_train)\n",
        "X_val_scaled = scaler.transform(X_val)\n"
      ],
      "metadata": {
        "id": "XkuWQW_SUcPe"
      },
      "execution_count": null,
      "outputs": []
    },
    {
      "cell_type": "code",
      "source": [
        "from sklearn.neural_network import MLPRegressor\n",
        "from sklearn.ensemble import AdaBoostRegressor\n",
        "from sklearn.metrics import mean_squared_error\n",
        "import numpy as np\n",
        "\n",
        "# base neural network\n",
        "mlp = MLPRegressor(hidden_layer_sizes=(10,), max_iter=500, random_state=12345)\n",
        "\n",
        "# boosted neural net\n",
        "boosted_nn = AdaBoostRegressor(\n",
        "    estimator=mlp,\n",
        "    n_estimators=50,\n",
        "    random_state=12345\n",
        ")\n",
        "\n",
        "boosted_nn.fit(X_train_scaled, y_train)\n",
        "\n",
        "# predictions\n",
        "y_pred = boosted_nn.predict(X_val_scaled)\n",
        "\n",
        "# RMSE\n",
        "rmse = np.sqrt(mean_squared_error(y_val, y_pred))\n",
        "print(\"Boosted Neural Net RMSE:\", round(rmse, 4))\n"
      ],
      "metadata": {
        "id": "yMPGlyDSUkB-"
      },
      "execution_count": null,
      "outputs": []
    },
    {
      "cell_type": "code",
      "source": [
        "from sklearn.ensemble import BaggingRegressor\n",
        "from sklearn.neural_network import MLPRegressor\n",
        "from sklearn.metrics import mean_squared_error\n",
        "import numpy as np\n",
        "\n",
        "# Define base neural net\n",
        "mlp = MLPRegressor(hidden_layer_sizes=(10,),\n",
        "                   activation='relu',\n",
        "                   solver='adam',\n",
        "                   max_iter=500,\n",
        "                   random_state=12345)\n",
        "\n",
        "# Bagged neural net\n",
        "bagged_nn = BaggingRegressor(\n",
        "    estimator=mlp,\n",
        "    n_estimators=50,\n",
        "    random_state=12345\n",
        ")\n",
        "\n",
        "bagged_nn.fit(X_train_scaled, y_train)\n",
        "y_pred = bagged_nn.predict(X_val_scaled)\n",
        "\n",
        "rmse = np.sqrt(mean_squared_error(y_val, y_pred))\n",
        "print(\"Bagged Neural Net RMSE:\", round(rmse, 4))\n"
      ],
      "metadata": {
        "id": "2wtmDK0ZWHMp"
      },
      "execution_count": null,
      "outputs": []
    }
  ]
}